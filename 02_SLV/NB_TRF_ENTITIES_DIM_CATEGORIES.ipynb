{
 "metadata": {
  "kernelspec": {
   "display_name": "Streamlit Notebook",
   "name": "streamlit"
  },
  "lastEditStatus": {
   "notebookId": "5nqdkgss4dis42q3hbiq",
   "authorId": "1001434816475",
   "authorName": "DYLANMONTOYA",
   "authorEmail": "dam1999dam@gmail.com",
   "sessionId": "ba65c5ff-8dea-487e-91ed-ad29a2f2c954",
   "lastEditTime": 1760689645133
  }
 },
 "nbformat_minor": 5,
 "nbformat": 4,
 "cells": [
  {
   "cell_type": "code",
   "id": "cbade81b-69fb-41a4-a2f8-4ac3b59c4c8c",
   "metadata": {
    "language": "sql",
    "name": "categories"
   },
   "outputs": [],
   "source": "CREATE TABLE IF NOT EXISTS DATA_SLV.DIM_CATEGORIES (\n    id_category VARCHAR,\n    name_category VARCHAR,\n    name_short VARCHAR,\n    name_sort VARCHAR\n);\n\nMERGE INTO DATA_SLV.DIM_CATEGORIES AS d\nUSING (\n  SELECT DISTINCT\n    TO_VARCHAR(category_id)        AS id_category,\n    TRIM(category_name)            AS name_category,\n    TRIM(shortname)                AS name_short,\n    TRIM(sort_name)                AS name_sort\n  FROM MEETUP_DB.DATA_BRZ.CATEGORIES\n) AS s\nON d.id_category = s.id_category\nWHEN MATCHED THEN UPDATE SET\n  d.name_category = s.name_category,\n  d.name_short    = s.name_short,\n  d.name_sort     = s.name_sort\nWHEN NOT MATCHED THEN INSERT (id_category, name_category, name_short, name_sort)\nVALUES (s.id_category, s.name_category, s.name_short, s.name_sort);",
   "execution_count": null
  }
 ]
}