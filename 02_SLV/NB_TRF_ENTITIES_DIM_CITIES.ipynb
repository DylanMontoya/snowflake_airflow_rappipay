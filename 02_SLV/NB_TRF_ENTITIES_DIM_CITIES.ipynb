{
 "metadata": {
  "kernelspec": {
   "display_name": "Streamlit Notebook",
   "name": "streamlit"
  },
  "lastEditStatus": {
   "notebookId": "5ov772rmup7s2wjbzxft",
   "authorId": "1001434816475",
   "authorName": "DYLANMONTOYA",
   "authorEmail": "dam1999dam@gmail.com",
   "sessionId": "03746834-8fdf-4267-86bd-18e388e5218b",
   "lastEditTime": 1760692557737
  }
 },
 "nbformat_minor": 5,
 "nbformat": 4,
 "cells": [
  {
   "cell_type": "code",
   "id": "9d9ed8e3-cd50-417c-a127-ce2fa0d9452b",
   "metadata": {
    "language": "sql",
    "name": "cities"
   },
   "outputs": [],
   "source": "CREATE TABLE IF NOT EXISTS DATA_SLV.DIM_CITIES (\n    city VARCHAR,\n    id_city VARCHAR,\n    country VARCHAR,\n    distance NUMBER(38, 3),\n    latitude NUMBER(38, 8),\n    localized_country_name VARCHAR,\n    longitude NUMBER(38, 8),\n    member_count NUMBER(38, 0),\n    ranking NUMBER(38, 0),\n    state VARCHAR, \n    zip NUMBER(38, 0) \n);\n\nMERGE INTO DATA_SLV.DIM_CITIES AS d\nUSING (\n  SELECT DISTINCT\n    -- limpieza básica\n    IFF(LOWER(TRIM(city))='not_found', NULL, TRIM(city))            AS city,\n    NULLIF(TRIM(TO_VARCHAR(city_id)), '')                           AS city_id,       -- uniforma a texto\n    IFF(LOWER(TRIM(country))='not_found', NULL, TRIM(country))      AS country,\n    TRY_TO_NUMBER(distance, 38, 3)                                  AS distance,\n    -- valida rangos pero mantiene NUMBER\n    CASE WHEN latitude  BETWEEN -90  AND  90  THEN latitude  ELSE NULL END AS latitude,\n    TRIM(localized_country_name)                                    AS localized_country_name,\n    CASE WHEN longitude BETWEEN -180 AND 180 THEN longitude ELSE NULL END AS longitude,\n    TRY_TO_NUMBER(member_count)                                     AS member_count,\n    TRY_TO_NUMBER(ranking)                                          AS ranking,\n    IFF(LOWER(TRIM(state))='not_found', NULL, TRIM(state))          AS state,\n    TRY_TO_NUMBER(zip)                                              AS zip,\n\n    -- clave natural flexible: prioriza city_id; si no, compuesta country|state|city|zip\n    COALESCE(\n      NULLIF(TRIM(TO_VARCHAR(city_id)), ''),\n      CONCAT(\n        '#',\n        COALESCE(TRIM(IFF(LOWER(TRIM(country))='not_found', NULL, TRIM(country))), ''), '|',\n        COALESCE(TRIM(IFF(LOWER(TRIM(state))  ='not_found', NULL, TRIM(state))),   ''), '|',\n        COALESCE(TRIM(IFF(LOWER(TRIM(city))   ='not_found', NULL, TRIM(city))),    ''), '|',\n        COALESCE(TO_VARCHAR(TRY_TO_NUMBER(zip)), '')\n      )\n    ) AS nk\n  FROM MEETUP_DB.DATA_BRZ.CITIES\n) AS s\nON COALESCE(\n     NULLIF(TRIM(d.id_city), ''),\n     CONCAT(\n       '#',\n       COALESCE(TRIM(d.country), ''), '|',\n       COALESCE(TRIM(d.state),   ''), '|',\n       COALESCE(TRIM(d.city),    ''), '|',\n       COALESCE(TO_VARCHAR(d.zip), '')\n     )\n   ) = s.nk\n\nWHEN MATCHED THEN UPDATE SET\n  d.city                    = s.city,\n  d.id_city                 = s.city_id,\n  d.country                 = s.country,\n  d.distance                = s.distance,\n  d.latitude                = s.latitude,\n  d.localized_country_name  = s.localized_country_name,\n  d.longitude               = s.longitude,\n  d.member_count            = s.member_count,\n  d.ranking                 = s.ranking,\n  d.state                   = s.state,\n  d.zip                     = s.zip\n\nWHEN NOT MATCHED THEN INSERT (\n  city, id_city, country, distance, latitude, localized_country_name,\n  longitude, member_count, ranking, state, zip\n) VALUES (\n  s.city, s.city_id, s.country, s.distance, s.latitude, s.localized_country_name,\n  s.longitude, s.member_count, s.ranking, s.state, s.zip\n);",
   "execution_count": null
  }
 ]
}