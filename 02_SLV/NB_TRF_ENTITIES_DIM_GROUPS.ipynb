{
 "metadata": {
  "kernelspec": {
   "display_name": "Streamlit Notebook",
   "name": "streamlit"
  },
  "lastEditStatus": {
   "notebookId": "zuykpio7ai5kwtgkosau",
   "authorId": "1001434816475",
   "authorName": "DYLANMONTOYA",
   "authorEmail": "dam1999dam@gmail.com",
   "sessionId": "9d9fab26-b589-4dca-83ea-88ac92162798",
   "lastEditTime": 1760697862004
  }
 },
 "nbformat_minor": 5,
 "nbformat": 4,
 "cells": [
  {
   "cell_type": "code",
   "id": "cbade81b-69fb-41a4-a2f8-4ac3b59c4c8c",
   "metadata": {
    "language": "sql",
    "name": "groups"
   },
   "outputs": [],
   "source": "CREATE TABLE IF NOT EXISTS DATA_SLV.DIM_GROUPS (\n    ID_GROUP NUMBER(38,0),\n    ID_CATEGORY NUMBER(38,0),\n    ID_CITY NUMBER(38,0),\n    ID_MEMBER NUMBER(38,0),\n    CREATED TIMESTAMP_NTZ,\n    DESCRIPTION VARCHAR,\n    ID_PHOTO NUMBER(38,0),\n    JOIN_MODE VARCHAR,\n    LINK VARCHAR,\n    MEMBERS NUMBER(38,0),\n    GROUP_NAME VARCHAR,\n    RATING NUMBER(38,0),\n    STATE VARCHAR,\n    TIMEZONE VARCHAR,\n    URLNAME VARCHAR,\n    UTC_OFFSET NUMBER(38,0),\n    VISIBILITY VARCHAR,\n    WHO VARCHAR\n);\n\nMERGE INTO DATA_SLV.DIM_GROUPS AS d\nUSING (\n  SELECT DISTINCT\n    TRY_TO_NUMBER(g.GROUP_ID)                     AS ID_GROUP,\n    TRY_TO_NUMBER(g.CATEGORY_ID)                  AS ID_CATEGORY,\n    TRY_TO_NUMBER(g.CITY_ID)                      AS ID_CITY,\n    g.CREATED                                     AS CREATED,\n    NULLIF(TRIM(g.DESCRIPTION), '')               AS DESCRIPTION,\n    TRY_TO_NUMBER(g.\"group_photo.photo_id\")       AS ID_PHOTO,\n    NULLIF(TRIM(g.JOIN_MODE),   '')               AS JOIN_MODE,\n    NULLIF(TRIM(g.LINK),        '')               AS LINK,\n    TRY_TO_NUMBER(g.MEMBERS)                      AS MEMBERS,\n    NULLIF(TRIM(g.GROUP_NAME),  '')               AS GROUP_NAME,\n    TRY_TO_NUMBER(ROUND(g.RATING, 0))             AS RATING,          -- tu destino es NUMBER(38,0)\n    NULLIF(TRIM(g.STATE),       '')               AS STATE,\n    NULLIF(TRIM(g.TIMEZONE),    '')               AS TIMEZONE,\n    NULLIF(TRIM(g.URLNAME),     '')               AS URLNAME,\n    TRY_TO_NUMBER(g.UTC_OFFSET)                   AS UTC_OFFSET,\n    NULLIF(TRIM(g.VISIBILITY),  '')               AS VISIBILITY,\n    NULLIF(TRIM(g.WHO),         '')               AS WHO,\n    TRY_TO_NUMBER(g.\"organizer.member_id\")        AS ID_MEMBER\n  FROM MEETUP_DB.DATA_BRZ.GROUPS g\n  WHERE TRY_TO_NUMBER(g.GROUP_ID) IS NOT NULL\n) AS s\nON d.ID_GROUP = s.ID_GROUP\n\nWHEN MATCHED THEN UPDATE SET\n  d.ID_CATEGORY  = s.ID_CATEGORY,\n  d.ID_CITY      = s.ID_CITY,\n  d.ID_MEMBER    = s.ID_MEMBER,\n  d.CREATED      = s.CREATED,\n  d.DESCRIPTION  = s.DESCRIPTION,\n  d.ID_PHOTO     = s.ID_PHOTO,\n  d.JOIN_MODE    = s.JOIN_MODE,\n  d.LINK         = s.LINK,\n  d.MEMBERS      = s.MEMBERS,\n  d.GROUP_NAME   = s.GROUP_NAME,\n  d.RATING       = s.RATING,\n  d.STATE        = s.STATE,\n  d.TIMEZONE     = s.TIMEZONE,\n  d.URLNAME      = s.URLNAME,\n  d.UTC_OFFSET   = s.UTC_OFFSET,\n  d.VISIBILITY   = s.VISIBILITY,\n  d.WHO          = s.WHO\n\nWHEN NOT MATCHED THEN INSERT (\n  ID_GROUP, ID_CATEGORY, ID_CITY, ID_MEMBER, CREATED, DESCRIPTION, ID_PHOTO,\n  JOIN_MODE, LINK, MEMBERS, GROUP_NAME, RATING, STATE, TIMEZONE, URLNAME,\n  UTC_OFFSET, VISIBILITY, WHO\n) VALUES (\n  s.ID_GROUP, s.ID_CATEGORY, s.ID_CITY, s.ID_MEMBER, s.CREATED, s.DESCRIPTION, s.ID_PHOTO,\n  s.JOIN_MODE, s.LINK, s.MEMBERS, s.GROUP_NAME, s.RATING, s.STATE, s.TIMEZONE, s.URLNAME,\n  s.UTC_OFFSET, s.VISIBILITY, s.WHO\n);",
   "execution_count": null
  }
 ]
}