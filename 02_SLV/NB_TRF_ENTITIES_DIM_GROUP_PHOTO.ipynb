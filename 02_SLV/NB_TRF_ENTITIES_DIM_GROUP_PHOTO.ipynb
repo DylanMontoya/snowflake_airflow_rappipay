{
 "metadata": {
  "kernelspec": {
   "display_name": "Streamlit Notebook",
   "name": "streamlit"
  },
  "lastEditStatus": {
   "notebookId": "ymkw4tuwkmzh2ukqgnht",
   "authorId": "1001434816475",
   "authorName": "DYLANMONTOYA",
   "authorEmail": "dam1999dam@gmail.com",
   "sessionId": "ab986dd3-ac66-40d4-9da1-4e726958b99e",
   "lastEditTime": 1760691926737
  }
 },
 "nbformat_minor": 5,
 "nbformat": 4,
 "cells": [
  {
   "cell_type": "code",
   "id": "cbade81b-69fb-41a4-a2f8-4ac3b59c4c8c",
   "metadata": {
    "language": "sql",
    "name": "group_photo"
   },
   "outputs": [],
   "source": "CREATE TABLE IF NOT EXISTS DATA_SLV.DIM_GROUP_PHOTO (\n    id_photo NUMBER(38, 0),\n    photo_link VARCHAR,\n    thumb_link VARCHAR,\n    type VARCHAR,\n    highres_link VARCHAR,\n    base_url VARCHAR\n);\n\nMERGE INTO DATA_SLV.DIM_GROUP_PHOTO AS d\nUSING (\n  SELECT DISTINCT\n    TRY_TO_NUMBER(\"group_photo.photo_id\")                  AS id_photo,\n    NULLIF(TRIM(\"group_photo.photo_link\"),      '')        AS photo_link,\n    NULLIF(TRIM(\"group_photo.thumb_link\"),      '')        AS thumb_link,\n    NULLIF(TRIM(\"group_photo.type\"),            '')        AS type,\n    NULLIF(TRIM(\"group_photo.highres_link\"),    '')        AS highres_link,\n    NULLIF(TRIM(\"group_photo.base_url\"),        '')        AS base_url\n  FROM MEETUP_DB.DATA_BRZ.GROUPS\n  WHERE \"group_photo.photo_id\" IS NOT NULL\n) AS s\nON d.id_photo = s.id_photo\n\nWHEN MATCHED THEN UPDATE SET\n  d.photo_link   = s.photo_link,\n  d.thumb_link   = s.thumb_link,\n  d.type         = s.type,\n  d.highres_link = s.highres_link,\n  d.base_url     = s.base_url\n\nWHEN NOT MATCHED THEN INSERT (\n  id_photo, photo_link, thumb_link, type, highres_link, base_url\n) VALUES (\n  s.id_photo, s.photo_link, s.thumb_link, s.type, s.highres_link, s.base_url\n);",
   "execution_count": null
  }
 ]
}