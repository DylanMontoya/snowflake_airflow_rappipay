{
 "metadata": {
  "kernelspec": {
   "display_name": "Streamlit Notebook",
   "name": "streamlit"
  },
  "lastEditStatus": {
   "notebookId": "uwcxmgpdsacayai5zvkr",
   "authorId": "1001434816475",
   "authorName": "DYLANMONTOYA",
   "authorEmail": "dam1999dam@gmail.com",
   "sessionId": "45ecc5b1-4b26-4ed7-935b-c99b83b69a18",
   "lastEditTime": 1760695274756
  }
 },
 "nbformat_minor": 5,
 "nbformat": 4,
 "cells": [
  {
   "cell_type": "code",
   "id": "cbade81b-69fb-41a4-a2f8-4ac3b59c4c8c",
   "metadata": {
    "language": "sql",
    "name": "groups_topics"
   },
   "outputs": [],
   "source": "CREATE TABLE IF NOT EXISTS DATA_SLV.DIM_GROUPS_TOPICS (\n    TOPIC_ID VARCHAR,\n    GROUP_ID VARCHAR,\n    TOPIC_KEY VARCHAR\n);\n\nMERGE INTO DATA_SLV.DIM_GROUPS_TOPICS AS d\nUSING (\n  SELECT DISTINCT\n    NULLIF(TRIM(TO_VARCHAR(gt.topic_id)), '') AS topic_id,\n    NULLIF(TRIM(TO_VARCHAR(gt.group_id)), '') AS group_id,\n    NULLIF(TRIM(gt.topic_key), '')            AS topic_key\n  FROM MEETUP_DB.DATA_BRZ.GROUPS_TOPICS gt\n  WHERE gt.topic_id IS NOT NULL\n    AND gt.group_id IS NOT NULL\n) AS s\nON  d.GROUP_ID = s.group_id\nAND d.TOPIC_ID = s.topic_id\n\nWHEN MATCHED THEN UPDATE SET\n  d.TOPIC_KEY = s.topic_key\n\nWHEN NOT MATCHED THEN INSERT (TOPIC_ID, GROUP_ID, TOPIC_KEY)\nVALUES (s.topic_id, s.group_id, s.topic_key);",
   "execution_count": null
  }
 ]
}