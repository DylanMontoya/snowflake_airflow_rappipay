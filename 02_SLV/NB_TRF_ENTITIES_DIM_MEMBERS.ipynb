{
 "metadata": {
  "kernelspec": {
   "display_name": "Streamlit Notebook",
   "name": "streamlit"
  },
  "lastEditStatus": {
   "notebookId": "gxnq6mmerlx7ggjwa5xw",
   "authorId": "1001434816475",
   "authorName": "DYLANMONTOYA",
   "authorEmail": "dam1999dam@gmail.com",
   "sessionId": "09418c51-db84-4b2e-b6d2-73aeb6b69a22",
   "lastEditTime": 1760693397879
  }
 },
 "nbformat_minor": 5,
 "nbformat": 4,
 "cells": [
  {
   "cell_type": "code",
   "id": "cbade81b-69fb-41a4-a2f8-4ac3b59c4c8c",
   "metadata": {
    "language": "sql",
    "name": "members"
   },
   "outputs": [],
   "source": "CREATE TABLE IF NOT EXISTS DIM_DIM_MEMBERS (\n    ID_MEMBER      NUMBER(38,0),\n    ID_CITY        NUMBER(38,0),\n    ID_GROUP       NUMBER(38,0),\n    MEMBER_NAME    VARCHAR,\n    MEMBER_STATUS  VARCHAR,\n    BIO            VARCHAR,\n    VISITED        TIMESTAMP_NTZ,\n    HOMETOWN       VARCHAR,\n    JOINED         TIMESTAMP_NTZ,\n    LINK           VARCHAR,\n    PRIMARY KEY (ID_MEMBER, ID_GROUP)  -- declarativo (Snowflake no lo hace cumplir)\n);\n\nMERGE INTO DATA_SLV.DIM_DIM_MEMBERS AS d\nUSING (\n  SELECT DISTINCT\n    TRY_TO_NUMBER(m.MEMBER_ID)                                  AS ID_MEMBER,\n    TRY_TO_NUMBER(c.ID_CITY)                                    AS ID_CITY,   -- si CITY_ID es texto en DIM_CITIES\n    TRY_TO_NUMBER(m.GROUP_ID)                                   AS ID_GROUP,\n    NULLIF(TRIM(m.MEMBER_NAME),   '')                           AS MEMBER_NAME,\n    NULLIF(TRIM(m.MEMBER_STATUS), '')                           AS MEMBER_STATUS,\n    NULLIF(TRIM(m.BIO),           '')                           AS BIO,\n    m.VISITED                                                   AS VISITED,\n    NULLIF(TRIM(m.HOMETOWN),      '')                           AS HOMETOWN,\n    m.JOINED                                                    AS JOINED,\n    NULLIF(TRIM(m.LINK),          '')                           AS LINK\n  FROM MEETUP_DB.DATA_BRZ.MEMBERS AS m\n  LEFT JOIN DATA_SLV.DIM_CITIES AS c\n    ON UPPER(TRIM(c.CITY))    = UPPER(TRIM(m.CITY))\n   AND COALESCE(UPPER(TRIM(c.STATE))  , '') = COALESCE(UPPER(TRIM(m.STATE))  , '')\n   AND COALESCE(UPPER(TRIM(c.COUNTRY)), '') = COALESCE(UPPER(TRIM(m.COUNTRY)), '')\n  WHERE TRY_TO_NUMBER(m.MEMBER_ID) IS NOT NULL\n    AND TRY_TO_NUMBER(m.GROUP_ID)  IS NOT NULL\n) AS s\nON  d.ID_MEMBER = s.ID_MEMBER\nAND d.ID_GROUP  = s.ID_GROUP\n\nWHEN MATCHED THEN UPDATE SET\n  d.ID_CITY        = s.ID_CITY,\n  d.MEMBER_NAME    = s.MEMBER_NAME,\n  d.MEMBER_STATUS  = s.MEMBER_STATUS,\n  d.BIO            = s.BIO,\n  d.VISITED        = s.VISITED,\n  d.HOMETOWN       = s.HOMETOWN,\n  d.JOINED         = s.JOINED,\n  d.LINK           = s.LINK\n\nWHEN NOT MATCHED THEN INSERT (\n  ID_MEMBER, ID_CITY, ID_GROUP, MEMBER_NAME, MEMBER_STATUS, BIO, VISITED, HOMETOWN, JOINED, LINK\n) VALUES (\n  s.ID_MEMBER, s.ID_CITY, s.ID_GROUP, s.MEMBER_NAME, s.MEMBER_STATUS, s.BIO, s.VISITED, s.HOMETOWN, s.JOINED, s.LINK\n);",
   "execution_count": null
  }
 ]
}