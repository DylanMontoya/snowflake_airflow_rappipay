{
 "metadata": {
  "kernelspec": {
   "display_name": "Streamlit Notebook",
   "name": "streamlit"
  },
  "lastEditStatus": {
   "notebookId": "e4z3ctayoie53lksvwx2",
   "authorId": "1001434816475",
   "authorName": "DYLANMONTOYA",
   "authorEmail": "dam1999dam@gmail.com",
   "sessionId": "a932653c-546e-40cf-8e48-cd7760ebdc23",
   "lastEditTime": 1760696243422
  }
 },
 "nbformat_minor": 5,
 "nbformat": 4,
 "cells": [
  {
   "cell_type": "code",
   "id": "cbade81b-69fb-41a4-a2f8-4ac3b59c4c8c",
   "metadata": {
    "language": "sql",
    "name": "topics"
   },
   "outputs": [],
   "source": "CREATE TABLE IF NOT EXISTS DATA_SLV.DIM_TOPICS (\n    TOPIC_ID NUMBER(38,0),\n    MAIN_TOPIC_ID NUMBER(38,0),\n    DESCRIPTION VARCHAR,\n    TOPIC_NAME VARCHAR,\n    URLKEY VARCHAR,\n    MEMBERS NUMBER(38,0),\n    LINK VARCHAR\n);\n\nMERGE INTO DATA_SLV.DIM_TOPICS AS d\nUSING (\n  SELECT DISTINCT\n    TRY_TO_NUMBER(t.TOPIC_ID)          AS topic_id,        -- NK numérica\n    TRY_TO_NUMBER(t.MAIN_TOPIC_ID)     AS main_topic_id,   -- puede ser NULL\n    NULLIF(TRIM(t.DESCRIPTION), '')    AS description,\n    NULLIF(TRIM(t.TOPIC_NAME),  '')    AS topic_name,\n    NULLIF(TRIM(t.URLKEY),      '')    AS urlkey,\n    TRY_TO_NUMBER(t.MEMBERS)           AS members,\n    NULLIF(TRIM(t.LINK),        '')    AS link\n  FROM MEETUP_DB.DATA_BRZ.TOPICS t\n  WHERE TRY_TO_NUMBER(t.TOPIC_ID) IS NOT NULL\n) AS s\nON d.TOPIC_ID = s.topic_id\n\nWHEN MATCHED THEN UPDATE SET\n  d.MAIN_TOPIC_ID = s.main_topic_id,\n  d.DESCRIPTION   = s.description,\n  d.TOPIC_NAME    = s.topic_name,\n  d.URLKEY        = s.urlkey,\n  d.MEMBERS       = s.members,\n  d.LINK          = s.link\n\nWHEN NOT MATCHED THEN INSERT (\n  TOPIC_ID, MAIN_TOPIC_ID, DESCRIPTION, TOPIC_NAME, URLKEY, MEMBERS, LINK\n) VALUES (\n  s.topic_id, s.main_topic_id, s.description, s.topic_name, s.urlkey, s.members, s.link\n);",
   "execution_count": null
  }
 ]
}