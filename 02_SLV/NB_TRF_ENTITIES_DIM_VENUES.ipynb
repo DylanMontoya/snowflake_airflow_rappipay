{
 "metadata": {
  "kernelspec": {
   "display_name": "Streamlit Notebook",
   "name": "streamlit"
  },
  "lastEditStatus": {
   "notebookId": "wtys3o2ae3x4ov5rwoej",
   "authorId": "1001434816475",
   "authorName": "DYLANMONTOYA",
   "authorEmail": "dam1999dam@gmail.com",
   "sessionId": "87bb935f-3545-4b28-a24d-87c92a8528cd",
   "lastEditTime": 1760694675838
  }
 },
 "nbformat_minor": 5,
 "nbformat": 4,
 "cells": [
  {
   "cell_type": "code",
   "id": "cbade81b-69fb-41a4-a2f8-4ac3b59c4c8c",
   "metadata": {
    "language": "sql",
    "name": "venues"
   },
   "outputs": [],
   "source": "CREATE TABLE IF NOT EXISTS DATA_SLV.DIM_VENUES (\n    VENUE_ID NUMBER(38,0),\n    ID_CITY NUMBER(38,0),\n    ADDRESS_1 VARCHAR,\n    VENUE_NAME VARCHAR,\n    RATING NUMBER(38,0),\n    RATING_COUNT NUMBER(38,0),\n    NORMALISED_RATING NUMBER(38,0)\n);\n\nMERGE INTO DATA_SLV.DIM_VENUES AS d\nUSING (\n  SELECT DISTINCT\n    TRY_TO_NUMBER(v.venue_id)                              AS venue_id,         -- NK\n    TRY_TO_NUMBER(c.id_city)                               AS id_city,          -- FK \n    NULLIF(TRIM(v.address_1), '')                          AS address_1,\n    NULLIF(TRIM(v.venue_name), '')                         AS venue_name,\n\n    TRY_TO_NUMBER(ROUND(v.rating,              0))         AS rating,\n    TRY_TO_NUMBER(ROUND(v.rating_count,        0))         AS rating_count,\n    TRY_TO_NUMBER(ROUND(v.normalised_rating,   0))         AS normalised_rating\n  FROM MEETUP_DB.DATA_BRZ.VENUES AS v\n  LEFT JOIN DATA_SLV.DIM_CITIES AS c\n    ON  UPPER(TRIM(v.city))    = UPPER(TRIM(c.city))\n    AND COALESCE(UPPER(TRIM(v.state))  , '') = COALESCE(UPPER(TRIM(c.state))  , '')\n    AND COALESCE(UPPER(TRIM(v.country)), '') = COALESCE(UPPER(TRIM(c.country)), '')\n  WHERE TRY_TO_NUMBER(v.venue_id) IS NOT NULL\n) AS s\nON d.VENUE_ID = s.venue_id\n\nWHEN MATCHED THEN UPDATE SET\n  d.ID_CITY            = s.id_city,\n  d.ADDRESS_1          = s.address_1,\n  d.VENUE_NAME         = s.venue_name,\n  d.RATING             = s.rating,\n  d.RATING_COUNT       = s.rating_count,\n  d.NORMALISED_RATING  = s.normalised_rating\n\nWHEN NOT MATCHED THEN INSERT (\n  VENUE_ID, ID_CITY, ADDRESS_1, VENUE_NAME, RATING, RATING_COUNT, NORMALISED_RATING\n) VALUES (\n  s.venue_id, s.id_city, s.address_1, s.venue_name, s.rating, s.rating_count, s.normalised_rating\n);",
   "execution_count": null
  }
 ]
}