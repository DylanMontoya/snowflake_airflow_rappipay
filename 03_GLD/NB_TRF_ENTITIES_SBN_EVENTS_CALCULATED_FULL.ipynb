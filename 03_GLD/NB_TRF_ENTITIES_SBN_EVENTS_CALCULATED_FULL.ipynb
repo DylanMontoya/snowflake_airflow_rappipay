{
 "metadata": {
  "kernelspec": {
   "display_name": "Streamlit Notebook",
   "name": "streamlit"
  },
  "lastEditStatus": {
   "notebookId": "uwfamd4z74dm4bgtan2t",
   "authorId": "1001434816475",
   "authorName": "DYLANMONTOYA",
   "authorEmail": "dam1999dam@gmail.com",
   "sessionId": "43759fe6-cdd1-4032-8ad5-d791e5dc82f3",
   "lastEditTime": 1760700743612
  }
 },
 "nbformat_minor": 5,
 "nbformat": 4,
 "cells": [
  {
   "cell_type": "code",
   "id": "cbade81b-69fb-41a4-a2f8-4ac3b59c4c8c",
   "metadata": {
    "language": "sql",
    "name": "sabana_full"
   },
   "outputs": [],
   "source": "CREATE OR REPLACE TABLE DATA_GLD.SBN_CALCULATED_EVENTS (\n  event_url        VARCHAR,\n  event_time       TIMESTAMP_NTZ,\n  event_name       VARCHAR,\n  group_name       VARCHAR,\n  city_name        VARCHAR,\n  category_name    VARCHAR,\n  yes_rsvp_count   NUMBER(38,0),\n  rsvp_limit       NUMBER(38,0),\n  fill_rate_pct    NUMBER(38,2),\n  load_ts          TIMESTAMP_NTZ DEFAULT CURRENT_TIMESTAMP(),\n  CONSTRAINT uq_mart_events_min UNIQUE (event_url, event_time)\n);",
   "execution_count": null
  },
  {
   "cell_type": "code",
   "id": "4070f3e6-c240-4ee9-94f5-43f0ec1f362d",
   "metadata": {
    "language": "sql",
    "name": "cell1"
   },
   "outputs": [],
   "source": "CREATE OR REPLACE TABLE MEETUP_DB.DATA_GLD.SBN_CALCULATED_EVENTS{{ ts_nodash }} AS\nSELECT\n  NULLIF(TRIM(e.event_url), '')                           AS event_url,\n  e.event_time,\n  NULLIF(TRIM(e.event_name), '')                          AS event_name,\n  NULLIF(TRIM(g.group_name), '')                          AS group_name,\n  COALESCE(NULLIF(TRIM(vc.city), ''), NULLIF(TRIM(gc.city), ''))         AS city_name,\n  NULLIF(TRIM(c.name_category), '')                       AS category_name,\n  e.yes_rsvp_count,\n  e.rsvp_limit,\n  CASE WHEN e.rsvp_limit > 0\n       THEN ROUND(100.0 * e.yes_rsvp_count / e.rsvp_limit, 2) END       AS fill_rate_pct,\n  CURRENT_TIMESTAMP()                                                   AS load_ts\nFROM MEETUP_DB.DATA_SLV.FACT_EVENTS AS e\nLEFT JOIN MEETUP_DB.DATA_SLV.DIM_GROUPS     g  ON g.id_group    = e.id_group\nLEFT JOIN MEETUP_DB.DATA_SLV.DIM_CATEGORIES c  ON c.id_category = g.id_category\nLEFT JOIN MEETUP_DB.DATA_SLV.DIM_CITIES     gc ON gc.id_city    = g.id_city\nLEFT JOIN MEETUP_DB.DATA_SLV.DIM_VENUES     v  ON v.venue_id    = e.id_venue\nLEFT JOIN MEETUP_DB.DATA_SLV.DIM_CITIES     vc ON vc.id_city    = v.id_city\nWHERE e.event_url IS NOT NULL;\n",
   "execution_count": null
  }
 ]
}