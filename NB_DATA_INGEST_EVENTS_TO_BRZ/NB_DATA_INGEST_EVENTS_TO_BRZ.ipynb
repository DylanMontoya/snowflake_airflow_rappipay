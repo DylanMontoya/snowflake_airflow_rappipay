{
 "metadata": {
  "kernelspec": {
   "display_name": "Streamlit Notebook",
   "name": "streamlit"
  },
  "lastEditStatus": {
   "notebookId": "uqmta5u7hktr6muqsytv",
   "authorId": "1001434816475",
   "authorName": "DYLANMONTOYA",
   "authorEmail": "dam1999dam@gmail.com",
   "sessionId": "dad58d4f-6fda-4d4e-ab80-219ec86e22e1",
   "lastEditTime": 1760688665442
  }
 },
 "nbformat_minor": 5,
 "nbformat": 4,
 "cells": [
  {
   "cell_type": "markdown",
   "id": "2748d9a5-3b5c-4f7e-814e-ec70391699a9",
   "metadata": {
    "name": "members",
    "collapsed": false
   },
   "source": "## Members Ingest"
  },
  {
   "cell_type": "code",
   "id": "2244062c-21d6-4276-bd40-6215361e1328",
   "metadata": {
    "language": "sql",
    "name": "c1"
   },
   "outputs": [],
   "source": "CREATE OR REPLACE TABLE DATA_BRZ.MEMBERS (\n    member_id VARCHAR, \n    bio VARCHAR, \n    city VARCHAR,\n    country VARCHAR,\n    hometown VARCHAR,\n    joined TIMESTAMP_NTZ,\n    lat NUMBER(38, 8),\n    link VARCHAR,\n    lon NUMBER(38, 8),\n    member_name VARCHAR,\n    state VARCHAR,\n    member_status VARCHAR,\n    visited TIMESTAMP_NTZ,\n    group_id VARCHAR\n); \n\nCOPY INTO \"MEETUP_DB\".\"DATA_BRZ\".\"MEMBERS\" \nFROM (\n    SELECT $1, $2, $3, $4, $5, $6, $7, $8, $9, $10, $11, $12, $13, $14\n\tFROM '@\"MEETUP_DB\".\"DATA_BRZ\".\"GCS_EVENTS_RAPPIPAY\"/members.csv' \n    )\nFILE_FORMAT = (\n  TYPE=CSV\n  SKIP_HEADER=1\n  FIELD_DELIMITER=','\n  TRIM_SPACE=TRUE\n  FIELD_OPTIONALLY_ENCLOSED_BY='\"'\n  REPLACE_INVALID_CHARACTERS=TRUE\n  DATE_FORMAT=AUTO\n  TIME_FORMAT=AUTO\n  TIMESTAMP_FORMAT=AUTO\n)\n\nON_ERROR=ABORT_STATEMENT",
   "execution_count": null
  },
  {
   "cell_type": "markdown",
   "id": "8b4f4823-d0f7-41e9-8db6-7bb090060ae2",
   "metadata": {
    "name": "members_topic",
    "collapsed": false
   },
   "source": "## Members Topics ingest"
  },
  {
   "cell_type": "code",
   "id": "5be3a12a-5c93-4cda-a633-7daa56a3a5b7",
   "metadata": {
    "language": "sql",
    "name": "c2"
   },
   "outputs": [],
   "source": "CREATE OR REPLACE TABLE DATA_BRZ.MEMBERS_TOPICS (\n    topic_id VARCHAR,\n    topic_key VARCHAR,\n    topic_name VARCHAR,\n    member_id VARCHAR \n); \n\nCOPY INTO \"MEETUP_DB\".\"DATA_BRZ\".\"MEMBERS_TOPICS\" \nFROM (\n    SELECT $1, $2, $3, $4\n\tFROM '@\"MEETUP_DB\".\"DATA_BRZ\".\"GCS_EVENTS_RAPPIPAY\"/members_topics.csv' \n    ) \n\nFILE_FORMAT = (\n  TYPE=CSV\n  SKIP_HEADER=1\n  FIELD_DELIMITER=','\n  TRIM_SPACE=TRUE\n  FIELD_OPTIONALLY_ENCLOSED_BY='\"'\n  REPLACE_INVALID_CHARACTERS=TRUE\n  DATE_FORMAT=AUTO\n  TIME_FORMAT=AUTO\n  TIMESTAMP_FORMAT=AUTO\n)\nON_ERROR=ABORT_STATEMENT",
   "execution_count": null
  },
  {
   "cell_type": "markdown",
   "id": "fcd62ba5-cd51-4287-ad91-2d2ac2b2aeed",
   "metadata": {
    "name": "cities",
    "collapsed": false
   },
   "source": "## Cities ingest"
  },
  {
   "cell_type": "code",
   "id": "44f70a27-c6ae-4756-b5fd-ebf5f319c165",
   "metadata": {
    "language": "sql",
    "name": "c3"
   },
   "outputs": [],
   "source": "CREATE OR REPLACE TABLE DATA_BRZ.CITIES (\n    city VARCHAR,\n    city_id VARCHAR,\n    country VARCHAR,\n    distance NUMBER(38, 3),\n    latitude NUMBER(38, 8),\n    localized_country_name VARCHAR,\n    longitude NUMBER(38, 8),\n    member_count NUMBER(38, 0),\n    ranking NUMBER(38, 0),\n    state VARCHAR, \n    zip NUMBER(38, 0) \n); \n\nCOPY INTO \"MEETUP_DB\".\"DATA_BRZ\".\"CITIES\" \nFROM (\n    SELECT $1, $2, $3, $4, $5, $6, $7, $8, $9, $10, $11\n\tFROM '@\"MEETUP_DB\".\"DATA_BRZ\".\"GCS_EVENTS_RAPPIPAY\"/cities.csv' \n    ) \n\nFILE_FORMAT = (\n  TYPE=CSV\n  SKIP_HEADER=1\n  FIELD_DELIMITER=','\n  TRIM_SPACE=TRUE\n  FIELD_OPTIONALLY_ENCLOSED_BY='\"'\n  REPLACE_INVALID_CHARACTERS=TRUE\n  DATE_FORMAT=AUTO\n  TIME_FORMAT=AUTO\n  TIMESTAMP_FORMAT=AUTO\n)\nON_ERROR=ABORT_STATEMENT ",
   "execution_count": null
  },
  {
   "cell_type": "markdown",
   "id": "da229fe0-d56f-44bc-ada4-9257c72cbf0f",
   "metadata": {
    "name": "categories",
    "collapsed": false
   },
   "source": "## Categories ingest"
  },
  {
   "cell_type": "code",
   "id": "edaabf4c-44a5-4d2c-934a-ab0c35dcf83a",
   "metadata": {
    "language": "sql",
    "name": "c4"
   },
   "outputs": [],
   "source": "CREATE OR REPLACE TABLE DATA_BRZ.CATEGORIES (\n    category_id VARCHAR,\n    category_name VARCHAR,\n    shortname VARCHAR,\n    sort_name VARCHAR\n); \n\nCOPY INTO \"MEETUP_DB\".\"DATA_BRZ\".\"CATEGORIES\" \nFROM (\n    SELECT $1, $2, $3, $4\n\tFROM '@\"MEETUP_DB\".\"DATA_BRZ\".\"GCS_EVENTS_RAPPIPAY\"/categories.csv' \n    ) \n\nFILE_FORMAT = (\n  TYPE=CSV\n  SKIP_HEADER=1\n  FIELD_DELIMITER=','\n  TRIM_SPACE=TRUE\n  FIELD_OPTIONALLY_ENCLOSED_BY='\"'\n  REPLACE_INVALID_CHARACTERS=TRUE\n  DATE_FORMAT=AUTO\n  TIME_FORMAT=AUTO\n  TIMESTAMP_FORMAT=AUTO\n)\nON_ERROR=ABORT_STATEMENT ",
   "execution_count": null
  },
  {
   "cell_type": "markdown",
   "id": "0a5d9180-9e87-420c-83c4-3848ca7f6546",
   "metadata": {
    "name": "events",
    "collapsed": false
   },
   "source": "## Events ingest"
  },
  {
   "cell_type": "code",
   "id": "bf22d5f0-ad73-4e91-b519-cd15094fc521",
   "metadata": {
    "language": "sql",
    "name": "c5"
   },
   "outputs": [],
   "source": "CREATE OR REPLACE TABLE DATA_BRZ.EVENTS (\n    event_id VARCHAR , \n    created TIMESTAMP_NTZ , \n    description VARCHAR , \n    duration NUMBER(38, 0) , \n    event_url VARCHAR , \n    \"fee.accepts\" VARCHAR , \n    \"fee.amount\" NUMBER(38, 2) , \n    \"fee.currency\" VARCHAR , \n    \"fee.description\" VARCHAR , \n    \"fee.label\" VARCHAR , \n    \"fee.required\" NUMBER(38, 0) , \n    \"group.created\" TIMESTAMP_NTZ , \n    \"group.group_lat\" NUMBER(38, 8) , \n    \"group.group_lon\" NUMBER(38, 8) , \n    group_id NUMBER(38, 0) , \n    \"group.join_mode\" VARCHAR , \n    \"group.name\" VARCHAR , \n    \"group.urlname\" VARCHAR , \n    \"group.who\" VARCHAR , \n    headcount NUMBER(38, 0) , \n    how_to_find_us VARCHAR , \n    maybe_rsvp_count NUMBER(38, 0) , \n    event_name VARCHAR , \n    photo_url VARCHAR , \n    \"rating.average\" NUMBER(38, 0) ,\n    \"rating.count\" NUMBER(38, 0) , \n    rsvp_limit NUMBER(38, 0) , \n    event_status VARCHAR , \n    event_time TIMESTAMP_NTZ , \n    updated TIMESTAMP_NTZ , \n    utc_offset NUMBER(38, 0) , \n    \"venue.address_1\" VARCHAR , \n    \"venue.address_2\" VARCHAR , \n    \"venue.city\" VARCHAR , \n    \"venue.country\" VARCHAR , \n    venue_id NUMBER(38, 0) , \n    \"venue.lat\" NUMBER(38, 8) , \n    \"venue.localized_country_name\" VARCHAR , \n    \"venue.lon\" NUMBER(38, 8) , \n    \"venue.name\" VARCHAR , \n    \"venue.phone\" NUMBER(38, 0) , \n    \"venue.repinned\" NUMBER(38, 0) , \n    \"venue.state\" VARCHAR , \n    \"venue.zip\" NUMBER(38, 0) , \n    visibility VARCHAR , \n    waitlist_count NUMBER(38, 0) , \n    why VARCHAR , \n    yes_rsvp_count NUMBER(38, 0)\n); \n\nCOPY INTO \"MEETUP_DB\".\"DATA_BRZ\".\"EVENTS\" \nFROM (\n    SELECT $1, $2, $3, $4, $5, $6, $7, $8, $9, $10, $11, $12, $13, $14, $15, $16, $17, $18, $19, $20, $21, $22, \n    $23, $24, $25, $26, $27, $28, $29, $30, $31, $32, $33, $34, $35, $36, $37, $38, $39, $40, $41, $42, $43, \n    $44, $45, $46, $47, $48\n\tFROM '@\"MEETUP_DB\".\"DATA_BRZ\".\"GCS_EVENTS_RAPPIPAY\"/events.csv' \n    ) \n\nFILE_FORMAT = (\n  TYPE=CSV\n  SKIP_HEADER=1\n  FIELD_DELIMITER=','\n  TRIM_SPACE=TRUE\n  FIELD_OPTIONALLY_ENCLOSED_BY='\"'\n  REPLACE_INVALID_CHARACTERS=TRUE\n  DATE_FORMAT=AUTO\n  TIME_FORMAT=AUTO\n  TIMESTAMP_FORMAT=AUTO\n)\nON_ERROR=ABORT_STATEMENT ",
   "execution_count": null
  },
  {
   "cell_type": "markdown",
   "id": "8e0c9dd3-1ad3-4b37-8db2-32edba95aff1",
   "metadata": {
    "name": "groups",
    "collapsed": false
   },
   "source": "## Groups ingest"
  },
  {
   "cell_type": "code",
   "id": "7d1a83ef-ab04-4dda-9fe9-999f72352bd0",
   "metadata": {
    "language": "sql",
    "name": "c6"
   },
   "outputs": [],
   "source": "CREATE OR REPLACE TABLE DATA_BRZ.GROUPS (\n    group_id NUMBER(38, 0) , \n    category_id NUMBER(38, 0) , \n    \"category.name\" VARCHAR , \n    \"category.shortname\" VARCHAR , \n    city_id NUMBER(38, 0) , \n    city VARCHAR , \n    country VARCHAR , \n    created TIMESTAMP_NTZ , \n    description VARCHAR , \n    \"group_photo.base_url\" VARCHAR ,\n    \"group_photo.highres_link\" VARCHAR , \n    \"group_photo.photo_id\" NUMBER(38, 0) , \n    \"group_photo.photo_link\" VARCHAR , \n    \"group_photo.thumb_link\" VARCHAR , \n    \"group_photo.type\" VARCHAR , \n    join_mode VARCHAR , \n    lat NUMBER(38, 8) , \n    link VARCHAR , \n    lon NUMBER(38, 8) , \n    members NUMBER(38, 0) , \n    group_name VARCHAR , \n    \"organizer.member_id\" NUMBER(38, 0) , \n    \"organizer.name\" VARCHAR , \n    \"organizer.photo.base_url\" VARCHAR ,\n    \"organizer.photo.highres_link\" VARCHAR , \n    \"organizer.photo.photo_id\" NUMBER(38, 0) , \n    \"organizer.photo.photo_link\" VARCHAR , \n    \"organizer.photo.thumb_link\" VARCHAR , \n    \"organizer.photo.type\" VARCHAR ,\n    rating NUMBER(38, 2) , \n    state VARCHAR , \n    timezone VARCHAR , \n    urlname VARCHAR , \n    utc_offset NUMBER(38, 0) , \n    visibility VARCHAR , \n    who VARCHAR\n); \n\nCOPY INTO \"MEETUP_DB\".\"DATA_BRZ\".\"GROUPS\" \nFROM (\n    SELECT $1, $2, $3, $4, $5, $6, $7, $8, $9, $10, $11, $12, $13, $14, $15, $16, $17, $18, $19, $20, $21, $22, \n    $23, $24, $25, $26, $27, $28, $29, $30, $31, $32, $33, $34, $35, $36\n\tFROM '@\"MEETUP_DB\".\"DATA_BRZ\".\"GCS_EVENTS_RAPPIPAY\"/groups.csv' \n    ) \n\nFILE_FORMAT = (\n  TYPE=CSV\n  SKIP_HEADER=1\n  FIELD_DELIMITER=','\n  TRIM_SPACE=TRUE\n  FIELD_OPTIONALLY_ENCLOSED_BY='\"'\n  REPLACE_INVALID_CHARACTERS=TRUE\n  DATE_FORMAT=AUTO\n  TIME_FORMAT=AUTO\n  TIMESTAMP_FORMAT=AUTO\n)\nON_ERROR=ABORT_STATEMENT ",
   "execution_count": null
  },
  {
   "cell_type": "markdown",
   "id": "ed48d8d4-2301-4bb7-ac0d-221564232839",
   "metadata": {
    "name": "groups_topics",
    "collapsed": false
   },
   "source": "## Groups Topics ingest"
  },
  {
   "cell_type": "code",
   "id": "f769914d-ed84-4044-95ca-6d0d075dad37",
   "metadata": {
    "language": "sql",
    "name": "c7"
   },
   "outputs": [],
   "source": "CREATE OR REPLACE TABLE DATA_BRZ.GROUPS_TOPICS (\n    topic_id NUMBER(38, 0) , \n    topic_key VARCHAR , \n    topic_name VARCHAR , \n    group_id NUMBER(38, 0)\n); \n\nCOPY INTO \"MEETUP_DB\".\"DATA_BRZ\".\"GROUPS_TOPICS\" \nFROM (\n    SELECT $1, $2, $3, $4\n\tFROM '@\"MEETUP_DB\".\"DATA_BRZ\".\"GCS_EVENTS_RAPPIPAY\"/groups_topics.csv' \n    ) \n\nFILE_FORMAT = (\n  TYPE=CSV\n  SKIP_HEADER=1\n  FIELD_DELIMITER=','\n  TRIM_SPACE=TRUE\n  FIELD_OPTIONALLY_ENCLOSED_BY='\"'\n  REPLACE_INVALID_CHARACTERS=TRUE\n  DATE_FORMAT=AUTO\n  TIME_FORMAT=AUTO\n  TIMESTAMP_FORMAT=AUTO\n)\nON_ERROR=ABORT_STATEMENT ",
   "execution_count": null
  },
  {
   "cell_type": "markdown",
   "id": "b3ab1eb4-a852-4601-a214-439c2b9de876",
   "metadata": {
    "name": "venues",
    "collapsed": false
   },
   "source": "## Venues ingest"
  },
  {
   "cell_type": "code",
   "id": "22d6ce27-48f0-47eb-a6fe-80735161732f",
   "metadata": {
    "language": "sql",
    "name": "c8"
   },
   "outputs": [],
   "source": "CREATE OR REPLACE TABLE DATA_BRZ.VENUES (\n    venue_id NUMBER(38, 0) , \n    address_1 VARCHAR , \n    city VARCHAR , \n    country VARCHAR , \n    distance NUMBER(38, 0) ,\n    lat NUMBER(38, 8) , \n    localized_country_name VARCHAR ,\n    lon NUMBER(38, 8) , \n    venue_name VARCHAR , \n    rating NUMBER(38, 2) , \n    rating_count NUMBER(38, 2) , \n    state VARCHAR , zip NUMBER(38, 0) ,\n    normalised_rating NUMBER(38, 2)\n); \n\nCOPY INTO \"MEETUP_DB\".\"DATA_BRZ\".\"VENUES\" \nFROM (\n    SELECT $1, $2, $3, $4, $5, $6, $7, $8, $9, $10, $11, $12, $13, $14\n\tFROM '@\"MEETUP_DB\".\"DATA_BRZ\".\"GCS_EVENTS_RAPPIPAY\"/venues.csv' \n    ) \n\nFILE_FORMAT = (\n  TYPE=CSV\n  SKIP_HEADER=1\n  FIELD_DELIMITER=','\n  TRIM_SPACE=TRUE\n  FIELD_OPTIONALLY_ENCLOSED_BY='\"'\n  REPLACE_INVALID_CHARACTERS=TRUE\n  DATE_FORMAT=AUTO\n  TIME_FORMAT=AUTO\n  TIMESTAMP_FORMAT=AUTO\n)\nON_ERROR=ABORT_STATEMENT ",
   "execution_count": null
  },
  {
   "cell_type": "markdown",
   "id": "71dea303-305f-4b76-8260-606ab8cd571b",
   "metadata": {
    "name": "topics",
    "collapsed": false
   },
   "source": "## Topics ingest"
  },
  {
   "cell_type": "code",
   "id": "55a6995b-e6a5-42b9-ac5b-4e811513c065",
   "metadata": {
    "language": "sql",
    "name": "c9"
   },
   "outputs": [],
   "source": "CREATE OR REPLACE TABLE DATA_BRZ.TOPICS (\n    topic_id NUMBER(38, 0) , \n    description VARCHAR , \n    link VARCHAR , \n    members NUMBER(38, 0) , \n    topic_name VARCHAR ,\n    urlkey VARCHAR , \n    main_topic_id NUMBER(38, 0)\n); \n\nCOPY INTO \"MEETUP_DB\".\"DATA_BRZ\".\"TOPICS\" \nFROM (\n    SELECT $1, $2, $3, $4, $5, $6, $7\n\tFROM '@\"MEETUP_DB\".\"DATA_BRZ\".\"GCS_EVENTS_RAPPIPAY\"/topics.csv' \n    ) \n\nFILE_FORMAT = (\n  TYPE=CSV\n  SKIP_HEADER=1\n  FIELD_DELIMITER=','\n  TRIM_SPACE=TRUE\n  FIELD_OPTIONALLY_ENCLOSED_BY='\"'\n  REPLACE_INVALID_CHARACTERS=TRUE\n  DATE_FORMAT=AUTO\n  TIME_FORMAT=AUTO\n  TIMESTAMP_FORMAT=AUTO\n)\nON_ERROR=ABORT_STATEMENT ",
   "execution_count": null
  }
 ]
}