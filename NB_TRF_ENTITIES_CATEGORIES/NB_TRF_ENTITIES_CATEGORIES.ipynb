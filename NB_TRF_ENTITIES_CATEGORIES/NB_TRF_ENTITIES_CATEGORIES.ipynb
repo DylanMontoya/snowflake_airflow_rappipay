{
 "metadata": {
  "kernelspec": {
   "display_name": "Streamlit Notebook",
   "name": "streamlit"
  },
  "lastEditStatus": {
   "notebookId": "2vznhienhfn7z55pc2lr",
   "authorId": "1001434816475",
   "authorName": "DYLANMONTOYA",
   "authorEmail": "dam1999dam@gmail.com",
   "sessionId": "72cac111-c467-4671-8a13-30c6b21276ae",
   "lastEditTime": 1760594326097
  }
 },
 "nbformat_minor": 5,
 "nbformat": 4,
 "cells": [
  {
   "cell_type": "code",
   "id": "c695373e-ac74-4b62-a1f1-08206cbd5c81",
   "metadata": {
    "language": "sql",
    "name": "cell3"
   },
   "source": "SELECT * --DISTINCT(CATEGORY_NAME), COUNT(CATEGORY_NAME) AS COUNT_CATEGORY\nFROM DW_BRZ_EVENTS.CATEGORIES\n--GROUP BY CATEGORY_NAME\n--ORDER BY COUNT_CATEGORY DESC",
   "execution_count": null,
   "outputs": []
  },
  {
   "cell_type": "code",
   "id": "6c1a55bf-06ff-4058-8fb8-e64c89d6bf17",
   "metadata": {
    "language": "sql",
    "name": "cell2"
   },
   "outputs": [],
   "source": "select * from DW_BRZ_EVENTS.GROUPS_TOPICS",
   "execution_count": null
  },
  {
   "cell_type": "code",
   "id": "d384cf53-cc76-4ec7-9e53-a9a59bbcb9d7",
   "metadata": {
    "language": "sql",
    "name": "cell1"
   },
   "outputs": [],
   "source": "SELECT * \nFROM DW_BRZ_EVENTS.GROUPS ORDER BY CATEGORY_ID DESC",
   "execution_count": null
  }
 ]
}